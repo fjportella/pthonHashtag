{
 "cells": [
  {
   "cell_type": "markdown",
   "id": "e37f1472",
   "metadata": {},
   "source": [
    "Meu Primeiro Programa, bora pra cima Hashtag"
   ]
  },
  {
   "cell_type": "code",
   "execution_count": 1,
   "id": "7d2a6062",
   "metadata": {},
   "outputs": [
    {
     "name": "stdout",
     "output_type": "stream",
     "text": [
      "Hello Word\n"
     ]
    }
   ],
   "source": [
    "print('Hello Word')"
   ]
  },
  {
   "cell_type": "code",
   "execution_count": 5,
   "id": "d5f1fc2b",
   "metadata": {},
   "outputs": [
    {
     "name": "stdout",
     "output_type": "stream",
     "text": [
      "0.6666666666666666\n"
     ]
    }
   ],
   "source": [
    "print(2/3)"
   ]
  },
  {
   "cell_type": "code",
   "execution_count": 7,
   "id": "5b0c8053",
   "metadata": {},
   "outputs": [
    {
     "name": "stdout",
     "output_type": "stream",
     "text": [
      "Meu nome é Fernando\n"
     ]
    }
   ],
   "source": [
    "print('Meu nome é ' + 'Fernando')"
   ]
  },
  {
   "cell_type": "code",
   "execution_count": 10,
   "id": "fafcd741",
   "metadata": {},
   "outputs": [
    {
     "name": "stdout",
     "output_type": "stream",
     "text": [
      "True\n"
     ]
    }
   ],
   "source": [
    "print('n' in 'Fernando')"
   ]
  },
  {
   "cell_type": "code",
   "execution_count": 13,
   "id": "ddedc8d9",
   "metadata": {},
   "outputs": [],
   "source": [
    "qtde_vendas = 1500"
   ]
  },
  {
   "cell_type": "code",
   "execution_count": 15,
   "id": "6187d365",
   "metadata": {},
   "outputs": [],
   "source": [
    "faturamento = 150\n",
    "custo = 60"
   ]
  },
  {
   "cell_type": "code",
   "execution_count": 17,
   "id": "37f750b5",
   "metadata": {},
   "outputs": [
    {
     "name": "stdout",
     "output_type": "stream",
     "text": [
      "90\n"
     ]
    }
   ],
   "source": [
    "lucro = faturamento - custo\n",
    "print(lucro)"
   ]
  }
 ],
 "metadata": {
  "kernelspec": {
   "display_name": "Python 3 (ipykernel)",
   "language": "python",
   "name": "python3"
  },
  "language_info": {
   "codemirror_mode": {
    "name": "ipython",
    "version": 3
   },
   "file_extension": ".py",
   "mimetype": "text/x-python",
   "name": "python",
   "nbconvert_exporter": "python",
   "pygments_lexer": "ipython3",
   "version": "3.9.7"
  }
 },
 "nbformat": 4,
 "nbformat_minor": 5
}
